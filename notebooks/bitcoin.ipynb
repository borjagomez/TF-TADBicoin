{
 "cells": [
  {
   "cell_type": "code",
   "execution_count": 1,
   "metadata": {
    "_cell_guid": "b1076dfc-b9ad-4769-8c92-a6c4dae69d19",
    "_uuid": "8f2839f25d086af736a60e9eeb907d3b93b6e0e5",
    "execution": {
     "iopub.execute_input": "2021-01-17T19:14:14.703125Z",
     "iopub.status.busy": "2021-01-17T19:14:14.702006Z",
     "iopub.status.idle": "2021-01-17T19:14:14.708274Z",
     "shell.execute_reply": "2021-01-17T19:14:14.708809Z"
    },
    "id": "Vc0x1d9ge35O",
    "papermill": {
     "duration": 0.03165,
     "end_time": "2021-01-17T19:14:14.708983",
     "exception": false,
     "start_time": "2021-01-17T19:14:14.677333",
     "status": "completed"
    },
    "tags": []
   },
   "outputs": [],
   "source": [
    "import numpy as np # linear \n",
    "from numpy import concatenate\n",
    "from math import sqrt\n",
    "import pandas as pd # data processing, CSV file I/O (e.g. pd.read_csv)\n",
    "from pandas import DataFrame\n",
    "from pandas import concat\n",
    "from datetime import datetime\n",
    "import matplotlib.pyplot as pyplot\n",
    "from sklearn.metrics import mean_squared_error\n",
    "\n",
    "from sklearn.preprocessing import LabelEncoder\n",
    "from sklearn.preprocessing import MinMaxScaler\n",
    "\n",
    "from keras.models import Sequential\n",
    "from keras.layers import Dense\n",
    "from keras.layers import LSTM\n",
    "from keras.layers import Dropout\n",
    "from keras.optimizers import Adam\n",
    "\n",
    "import matplotlib.pyplot as plt\n",
    "plt.style.use('seaborn-darkgrid')"
   ]
  },
  {
   "cell_type": "markdown",
   "metadata": {
    "id": "hp8rM4Dfe35f",
    "papermill": {
     "duration": 0.020921,
     "end_time": "2021-01-17T19:14:14.751921",
     "exception": false,
     "start_time": "2021-01-17T19:14:14.731000",
     "status": "completed"
    },
    "tags": []
   },
   "source": [
    "## Glimpse Data"
   ]
  },
  {
   "cell_type": "markdown",
   "metadata": {
    "id": "uTCFGYoRe35g",
    "papermill": {
     "duration": 0.019995,
     "end_time": "2021-01-17T19:14:14.793113",
     "exception": false,
     "start_time": "2021-01-17T19:14:14.773118",
     "status": "completed"
    },
    "tags": []
   },
   "source": [
    "Read data"
   ]
  },
  {
   "cell_type": "code",
   "execution_count": 2,
   "metadata": {
    "_cell_guid": "79c7e3d0-c299-4dcb-8224-4455121ee9b0",
    "_uuid": "d629ff2d2480ee46fbb7e2d37f6b5fab8052498a",
    "execution": {
     "iopub.execute_input": "2021-01-17T19:14:14.838383Z",
     "iopub.status.busy": "2021-01-17T19:14:14.837677Z",
     "iopub.status.idle": "2021-01-17T19:14:30.782697Z",
     "shell.execute_reply": "2021-01-17T19:14:30.781863Z"
    },
    "id": "-slcP0hOe35i",
    "papermill": {
     "duration": 15.968449,
     "end_time": "2021-01-17T19:14:30.782819",
     "exception": false,
     "start_time": "2021-01-17T19:14:14.814370",
     "status": "completed"
    },
    "tags": []
   },
   "outputs": [
    {
     "data": {
      "text/html": [
       "<div>\n",
       "<style scoped>\n",
       "    .dataframe tbody tr th:only-of-type {\n",
       "        vertical-align: middle;\n",
       "    }\n",
       "\n",
       "    .dataframe tbody tr th {\n",
       "        vertical-align: top;\n",
       "    }\n",
       "\n",
       "    .dataframe thead th {\n",
       "        text-align: right;\n",
       "    }\n",
       "</style>\n",
       "<table border=\"1\" class=\"dataframe\">\n",
       "  <thead>\n",
       "    <tr style=\"text-align: right;\">\n",
       "      <th></th>\n",
       "      <th>Open</th>\n",
       "      <th>High</th>\n",
       "      <th>Low</th>\n",
       "      <th>Close</th>\n",
       "      <th>Volume_(BTC)</th>\n",
       "      <th>Volume_(Currency)</th>\n",
       "      <th>Weighted_Price</th>\n",
       "      <th>TDA</th>\n",
       "    </tr>\n",
       "    <tr>\n",
       "      <th>Timestamp</th>\n",
       "      <th></th>\n",
       "      <th></th>\n",
       "      <th></th>\n",
       "      <th></th>\n",
       "      <th></th>\n",
       "      <th></th>\n",
       "      <th></th>\n",
       "      <th></th>\n",
       "    </tr>\n",
       "  </thead>\n",
       "  <tbody>\n",
       "    <tr>\n",
       "      <th>2017-01-03 04:00:00</th>\n",
       "      <td>1023.315250</td>\n",
       "      <td>1023.436750</td>\n",
       "      <td>1023.267500</td>\n",
       "      <td>1023.392250</td>\n",
       "      <td>2.499811</td>\n",
       "      <td>2557.745244</td>\n",
       "      <td>1023.345857</td>\n",
       "      <td>1.512730</td>\n",
       "    </tr>\n",
       "    <tr>\n",
       "      <th>2017-01-03 05:00:00</th>\n",
       "      <td>1022.452955</td>\n",
       "      <td>1022.454318</td>\n",
       "      <td>1022.223636</td>\n",
       "      <td>1022.261591</td>\n",
       "      <td>5.433221</td>\n",
       "      <td>5556.951296</td>\n",
       "      <td>1022.299328</td>\n",
       "      <td>1.521520</td>\n",
       "    </tr>\n",
       "    <tr>\n",
       "      <th>2017-01-03 06:00:00</th>\n",
       "      <td>1017.268864</td>\n",
       "      <td>1017.485000</td>\n",
       "      <td>1016.845000</td>\n",
       "      <td>1017.320909</td>\n",
       "      <td>6.754669</td>\n",
       "      <td>6875.645449</td>\n",
       "      <td>1017.148655</td>\n",
       "      <td>0.889232</td>\n",
       "    </tr>\n",
       "    <tr>\n",
       "      <th>2017-01-03 07:00:00</th>\n",
       "      <td>1012.305532</td>\n",
       "      <td>1012.549574</td>\n",
       "      <td>1012.033617</td>\n",
       "      <td>1012.318936</td>\n",
       "      <td>3.272033</td>\n",
       "      <td>3311.363934</td>\n",
       "      <td>1012.258033</td>\n",
       "      <td>1.018090</td>\n",
       "    </tr>\n",
       "    <tr>\n",
       "      <th>2017-01-03 08:00:00</th>\n",
       "      <td>1014.850638</td>\n",
       "      <td>1015.312128</td>\n",
       "      <td>1014.587660</td>\n",
       "      <td>1015.101064</td>\n",
       "      <td>3.856818</td>\n",
       "      <td>3917.441456</td>\n",
       "      <td>1014.977552</td>\n",
       "      <td>1.017370</td>\n",
       "    </tr>\n",
       "    <tr>\n",
       "      <th>...</th>\n",
       "      <td>...</td>\n",
       "      <td>...</td>\n",
       "      <td>...</td>\n",
       "      <td>...</td>\n",
       "      <td>...</td>\n",
       "      <td>...</td>\n",
       "      <td>...</td>\n",
       "      <td>...</td>\n",
       "    </tr>\n",
       "    <tr>\n",
       "      <th>2020-12-30 20:00:00</th>\n",
       "      <td>28804.122167</td>\n",
       "      <td>28826.711333</td>\n",
       "      <td>28777.034000</td>\n",
       "      <td>28805.678000</td>\n",
       "      <td>12.649963</td>\n",
       "      <td>364479.654389</td>\n",
       "      <td>28801.783950</td>\n",
       "      <td>3884.190000</td>\n",
       "    </tr>\n",
       "    <tr>\n",
       "      <th>2020-12-30 21:00:00</th>\n",
       "      <td>28840.522833</td>\n",
       "      <td>28862.506833</td>\n",
       "      <td>28812.956333</td>\n",
       "      <td>28843.839833</td>\n",
       "      <td>7.912897</td>\n",
       "      <td>227921.940911</td>\n",
       "      <td>28837.869651</td>\n",
       "      <td>4046.840000</td>\n",
       "    </tr>\n",
       "    <tr>\n",
       "      <th>2020-12-30 22:00:00</th>\n",
       "      <td>28820.040500</td>\n",
       "      <td>28837.640500</td>\n",
       "      <td>28795.527000</td>\n",
       "      <td>28816.996833</td>\n",
       "      <td>3.954189</td>\n",
       "      <td>113881.747431</td>\n",
       "      <td>28816.717681</td>\n",
       "      <td>2762.500000</td>\n",
       "    </tr>\n",
       "    <tr>\n",
       "      <th>2020-12-30 23:00:00</th>\n",
       "      <td>28810.286000</td>\n",
       "      <td>28830.044500</td>\n",
       "      <td>28793.330000</td>\n",
       "      <td>28809.286833</td>\n",
       "      <td>2.374518</td>\n",
       "      <td>68426.570761</td>\n",
       "      <td>28812.232777</td>\n",
       "      <td>1972.340000</td>\n",
       "    </tr>\n",
       "    <tr>\n",
       "      <th>2020-12-31 00:00:00</th>\n",
       "      <td>28893.210000</td>\n",
       "      <td>28928.490000</td>\n",
       "      <td>28893.210000</td>\n",
       "      <td>28928.490000</td>\n",
       "      <td>5.757679</td>\n",
       "      <td>166449.709320</td>\n",
       "      <td>28909.166061</td>\n",
       "      <td>1757.140000</td>\n",
       "    </tr>\n",
       "  </tbody>\n",
       "</table>\n",
       "<p>34989 rows × 8 columns</p>\n",
       "</div>"
      ],
      "text/plain": [
       "                             Open          High           Low         Close  \\\n",
       "Timestamp                                                                     \n",
       "2017-01-03 04:00:00   1023.315250   1023.436750   1023.267500   1023.392250   \n",
       "2017-01-03 05:00:00   1022.452955   1022.454318   1022.223636   1022.261591   \n",
       "2017-01-03 06:00:00   1017.268864   1017.485000   1016.845000   1017.320909   \n",
       "2017-01-03 07:00:00   1012.305532   1012.549574   1012.033617   1012.318936   \n",
       "2017-01-03 08:00:00   1014.850638   1015.312128   1014.587660   1015.101064   \n",
       "...                           ...           ...           ...           ...   \n",
       "2020-12-30 20:00:00  28804.122167  28826.711333  28777.034000  28805.678000   \n",
       "2020-12-30 21:00:00  28840.522833  28862.506833  28812.956333  28843.839833   \n",
       "2020-12-30 22:00:00  28820.040500  28837.640500  28795.527000  28816.996833   \n",
       "2020-12-30 23:00:00  28810.286000  28830.044500  28793.330000  28809.286833   \n",
       "2020-12-31 00:00:00  28893.210000  28928.490000  28893.210000  28928.490000   \n",
       "\n",
       "                     Volume_(BTC)  Volume_(Currency)  Weighted_Price  \\\n",
       "Timestamp                                                              \n",
       "2017-01-03 04:00:00      2.499811        2557.745244     1023.345857   \n",
       "2017-01-03 05:00:00      5.433221        5556.951296     1022.299328   \n",
       "2017-01-03 06:00:00      6.754669        6875.645449     1017.148655   \n",
       "2017-01-03 07:00:00      3.272033        3311.363934     1012.258033   \n",
       "2017-01-03 08:00:00      3.856818        3917.441456     1014.977552   \n",
       "...                           ...                ...             ...   \n",
       "2020-12-30 20:00:00     12.649963      364479.654389    28801.783950   \n",
       "2020-12-30 21:00:00      7.912897      227921.940911    28837.869651   \n",
       "2020-12-30 22:00:00      3.954189      113881.747431    28816.717681   \n",
       "2020-12-30 23:00:00      2.374518       68426.570761    28812.232777   \n",
       "2020-12-31 00:00:00      5.757679      166449.709320    28909.166061   \n",
       "\n",
       "                             TDA  \n",
       "Timestamp                         \n",
       "2017-01-03 04:00:00     1.512730  \n",
       "2017-01-03 05:00:00     1.521520  \n",
       "2017-01-03 06:00:00     0.889232  \n",
       "2017-01-03 07:00:00     1.018090  \n",
       "2017-01-03 08:00:00     1.017370  \n",
       "...                          ...  \n",
       "2020-12-30 20:00:00  3884.190000  \n",
       "2020-12-30 21:00:00  4046.840000  \n",
       "2020-12-30 22:00:00  2762.500000  \n",
       "2020-12-30 23:00:00  1972.340000  \n",
       "2020-12-31 00:00:00  1757.140000  \n",
       "\n",
       "[34989 rows x 8 columns]"
      ]
     },
     "execution_count": 2,
     "metadata": {},
     "output_type": "execute_result"
    }
   ],
   "source": [
    "btc = pd.read_csv('/data/training.csv')\n",
    "btc.set_index('Timestamp')"
   ]
  },
  {
   "cell_type": "markdown",
   "metadata": {
    "id": "0SOnd0DN22SE"
   },
   "source": [
    "Select an eventful time period in Bitcoin history"
   ]
  },
  {
   "cell_type": "code",
   "execution_count": 3,
   "metadata": {
    "id": "42w1ZlFE2ltL"
   },
   "outputs": [],
   "source": [
    "# Select the years 2017 on\n",
    "btc = btc.loc['2010':]"
   ]
  },
  {
   "cell_type": "markdown",
   "metadata": {
    "id": "zWOEfnV-e35j",
    "papermill": {
     "duration": 0.021216,
     "end_time": "2021-01-17T19:14:30.824819",
     "exception": false,
     "start_time": "2021-01-17T19:14:30.803603",
     "status": "completed"
    },
    "tags": []
   },
   "source": [
    "#### Time resampling"
   ]
  },
  {
   "cell_type": "code",
   "execution_count": 4,
   "metadata": {
    "colab": {
     "base_uri": "https://localhost:8080/",
     "height": 342
    },
    "execution": {
     "iopub.execute_input": "2021-01-17T19:14:30.872374Z",
     "iopub.status.busy": "2021-01-17T19:14:30.871608Z",
     "iopub.status.idle": "2021-01-17T19:14:31.071358Z",
     "shell.execute_reply": "2021-01-17T19:14:31.070602Z"
    },
    "id": "SWn3BLTXe35k",
    "outputId": "a2090fe0-193e-479b-d1ed-a79a08ae9dba",
    "papermill": {
     "duration": 0.225148,
     "end_time": "2021-01-17T19:14:31.071529",
     "exception": false,
     "start_time": "2021-01-17T19:14:30.846381",
     "status": "completed"
    },
    "tags": []
   },
   "outputs": [
    {
     "data": {
      "text/html": [
       "<div>\n",
       "<style scoped>\n",
       "    .dataframe tbody tr th:only-of-type {\n",
       "        vertical-align: middle;\n",
       "    }\n",
       "\n",
       "    .dataframe tbody tr th {\n",
       "        vertical-align: top;\n",
       "    }\n",
       "\n",
       "    .dataframe thead th {\n",
       "        text-align: right;\n",
       "    }\n",
       "</style>\n",
       "<table border=\"1\" class=\"dataframe\">\n",
       "  <thead>\n",
       "    <tr style=\"text-align: right;\">\n",
       "      <th></th>\n",
       "      <th>Timestamp</th>\n",
       "      <th>Open</th>\n",
       "      <th>High</th>\n",
       "      <th>Low</th>\n",
       "      <th>Close</th>\n",
       "      <th>Volume_(BTC)</th>\n",
       "      <th>Volume_(Currency)</th>\n",
       "      <th>Weighted_Price</th>\n",
       "      <th>TDA</th>\n",
       "    </tr>\n",
       "  </thead>\n",
       "  <tbody>\n",
       "    <tr>\n",
       "      <th>20100</th>\n",
       "      <td>2019-04-20 16:00:00</td>\n",
       "      <td>5324.226897</td>\n",
       "      <td>5325.084310</td>\n",
       "      <td>5323.238276</td>\n",
       "      <td>5324.239310</td>\n",
       "      <td>0.958748</td>\n",
       "      <td>5106.092381</td>\n",
       "      <td>5324.267107</td>\n",
       "      <td>21.7167</td>\n",
       "    </tr>\n",
       "    <tr>\n",
       "      <th>20101</th>\n",
       "      <td>2019-04-20 17:00:00</td>\n",
       "      <td>5315.988966</td>\n",
       "      <td>5317.052414</td>\n",
       "      <td>5314.585345</td>\n",
       "      <td>5315.913793</td>\n",
       "      <td>4.065730</td>\n",
       "      <td>21606.853254</td>\n",
       "      <td>5315.689465</td>\n",
       "      <td>20.8140</td>\n",
       "    </tr>\n",
       "    <tr>\n",
       "      <th>20102</th>\n",
       "      <td>2019-04-20 18:00:00</td>\n",
       "      <td>5311.773455</td>\n",
       "      <td>5312.570727</td>\n",
       "      <td>5311.106364</td>\n",
       "      <td>5311.963091</td>\n",
       "      <td>1.066115</td>\n",
       "      <td>5662.866689</td>\n",
       "      <td>5311.725131</td>\n",
       "      <td>13.2219</td>\n",
       "    </tr>\n",
       "    <tr>\n",
       "      <th>20103</th>\n",
       "      <td>2019-04-20 19:00:00</td>\n",
       "      <td>5318.488542</td>\n",
       "      <td>5319.456875</td>\n",
       "      <td>5318.088542</td>\n",
       "      <td>5319.093542</td>\n",
       "      <td>1.200785</td>\n",
       "      <td>6387.066892</td>\n",
       "      <td>5318.750702</td>\n",
       "      <td>13.8803</td>\n",
       "    </tr>\n",
       "    <tr>\n",
       "      <th>20104</th>\n",
       "      <td>2019-04-20 20:00:00</td>\n",
       "      <td>5322.951500</td>\n",
       "      <td>5324.086000</td>\n",
       "      <td>5321.700000</td>\n",
       "      <td>5322.936333</td>\n",
       "      <td>1.830436</td>\n",
       "      <td>9734.838371</td>\n",
       "      <td>5322.753415</td>\n",
       "      <td>11.3486</td>\n",
       "    </tr>\n",
       "  </tbody>\n",
       "</table>\n",
       "</div>"
      ],
      "text/plain": [
       "                 Timestamp         Open         High          Low  \\\n",
       "20100  2019-04-20 16:00:00  5324.226897  5325.084310  5323.238276   \n",
       "20101  2019-04-20 17:00:00  5315.988966  5317.052414  5314.585345   \n",
       "20102  2019-04-20 18:00:00  5311.773455  5312.570727  5311.106364   \n",
       "20103  2019-04-20 19:00:00  5318.488542  5319.456875  5318.088542   \n",
       "20104  2019-04-20 20:00:00  5322.951500  5324.086000  5321.700000   \n",
       "\n",
       "             Close  Volume_(BTC)  Volume_(Currency)  Weighted_Price      TDA  \n",
       "20100  5324.239310      0.958748        5106.092381     5324.267107  21.7167  \n",
       "20101  5315.913793      4.065730       21606.853254     5315.689465  20.8140  \n",
       "20102  5311.963091      1.066115        5662.866689     5311.725131  13.2219  \n",
       "20103  5319.093542      1.200785        6387.066892     5318.750702  13.8803  \n",
       "20104  5322.936333      1.830436        9734.838371     5322.753415  11.3486  "
      ]
     },
     "execution_count": 4,
     "metadata": {},
     "output_type": "execute_result"
    }
   ],
   "source": [
    "btc.head()"
   ]
  },
  {
   "cell_type": "markdown",
   "metadata": {
    "id": "8ch2bHcnsB3W"
   },
   "source": [
    "#### Plot time series"
   ]
  },
  {
   "cell_type": "code",
   "execution_count": 5,
   "metadata": {
    "colab": {
     "base_uri": "https://localhost:8080/",
     "height": 550
    },
    "id": "cIrWh7m4rjHZ",
    "outputId": "d6693f02-1789-4193-f1e1-10c4d6ec3954"
   },
   "outputs": [
    {
     "data": {
      "text/plain": [
       "array([<AxesSubplot:>, <AxesSubplot:>, <AxesSubplot:>, <AxesSubplot:>,\n",
       "       <AxesSubplot:>, <AxesSubplot:>, <AxesSubplot:>, <AxesSubplot:>],\n",
       "      dtype=object)"
      ]
     },
     "execution_count": 5,
     "metadata": {},
     "output_type": "execute_result"
    },
    {
     "data": {
      "image/png": "[encoded data removed]",
      "text/plain": [
       "<Figure size 648x504 with 8 Axes>"
      ]
     },
     "metadata": {},
     "output_type": "display_data"
    }
   ],
   "source": [
    "btc.plot(figsize=(9,7), subplots=True)"
   ]
  },
  {
   "cell_type": "markdown",
   "metadata": {
    "id": "sdWgTzEX2Mz7"
   },
   "source": [
    "#### Keras Long Short-Term Memory (LSTM) Model"
   ]
  },
  {
   "cell_type": "code",
   "execution_count": 66,
   "metadata": {},
   "outputs": [],
   "source": [
    "# convert series to supervised learning\n",
    "def series_to_supervised(data, n_in=1, n_out=1, dropnan=True):\n",
    "    n_vars = 1 if type(data) is list else data.shape[1]\n",
    "    print(data)\n",
    "    df = DataFrame(data)\n",
    "    cols, names = list(), list()\n",
    "    # input sequence (t-n, ... t-1)\n",
    "    for i in range(n_in, 0, -1):\n",
    "        cols.append(df.shift(i))\n",
    "        names += [('var%d(t-%d)' % (j+1, i)) for j in range(n_vars)]\n",
    "    # forecast sequence (t, t+1, ... t+n)\n",
    "    for i in range(0, n_out):\n",
    "        cols.append(df.shift(-i))\n",
    "        if i == 0:\n",
    "            names += [('var%d(t)' % (j+1)) for j in range(n_vars)]\n",
    "        else:\n",
    "            names += [('var%d(t+%d)' % (j+1, i)) for j in range(n_vars)]\n",
    "    # put it all together\n",
    "    agg = concat(cols, axis=1)\n",
    "    agg.columns = names\n",
    "    # drop rows with NaN values\n",
    "    if dropnan:\n",
    "        agg.dropna(inplace=True)\n",
    "    return agg\n",
    " "
   ]
  },
  {
   "cell_type": "code",
   "execution_count": 171,
   "metadata": {},
   "outputs": [
    {
     "name": "stdout",
     "output_type": "stream",
     "text": [
      "[[0.03154869 0.03112358 0.03329152 0.03180531 0.00632798]\n",
      " [0.03121019 0.03079389 0.03293662 0.03146381 0.02721717]\n",
      " [0.03103698 0.03060992 0.03279393 0.03130176 0.00704984]\n",
      " ...\n",
      " [0.99699346 0.9962708  0.99599359 0.99542679 0.02646724]\n",
      " [0.99659265 0.99595899 0.99590348 0.99511055 0.01584663]\n",
      " [1.         1.         1.         1.         0.03859266]]\n"
     ]
    }
   ],
   "source": [
    "# load dataset\n",
    "values = btc.drop(columns=['Timestamp', 'Volume_(Currency)', 'Weighted_Price', 'TDA']).values\n",
    "\n",
    "# normalize features\n",
    "scaler = MinMaxScaler(feature_range=(0, 1))\n",
    "scaled = scaler.fit_transform(values)\n",
    "\n",
    "# frame as supervised learning\n",
    "reframed = series_to_supervised(scaled, 1, 1)"
   ]
  },
  {
   "cell_type": "code",
   "execution_count": 172,
   "metadata": {},
   "outputs": [],
   "source": [
    "ncols = reframed.shape[1]"
   ]
  },
  {
   "cell_type": "code",
   "execution_count": 173,
   "metadata": {},
   "outputs": [
    {
     "name": "stdout",
     "output_type": "stream",
     "text": [
      "       var1(t-1)  var2(t-1)  var3(t-1)  var4(t-1)  var5(t-1)   var1(t)  \\\n",
      "1       0.031549   0.031124   0.033292   0.031805   0.006328  0.031210   \n",
      "2       0.031210   0.030794   0.032937   0.031464   0.027217  0.031037   \n",
      "3       0.031037   0.030610   0.032794   0.031302   0.007050  0.031313   \n",
      "4       0.031313   0.030893   0.033080   0.031594   0.007955  0.031496   \n",
      "5       0.031496   0.031083   0.033228   0.031752   0.012189  0.030502   \n",
      "...          ...        ...        ...        ...        ...       ...   \n",
      "14884   0.994296   0.994216   0.992682   0.993102   0.135813  0.996339   \n",
      "14885   0.996339   0.995822   0.995235   0.994963   0.084932  0.997835   \n",
      "14886   0.997835   0.997292   0.996708   0.996528   0.053083  0.996993   \n",
      "14887   0.996993   0.996271   0.995994   0.995427   0.026467  0.996593   \n",
      "14888   0.996593   0.995959   0.995903   0.995111   0.015847  1.000000   \n",
      "\n",
      "        var2(t)   var3(t)   var4(t)   var5(t)  \n",
      "1      0.030794  0.032937  0.031464  0.027217  \n",
      "2      0.030610  0.032794  0.031302  0.007050  \n",
      "3      0.030893  0.033080  0.031594  0.007955  \n",
      "4      0.031083  0.033228  0.031752  0.012189  \n",
      "5      0.030146  0.032205  0.030780  0.023024  \n",
      "...         ...       ...       ...       ...  \n",
      "14884  0.995822  0.995235  0.994963  0.084932  \n",
      "14885  0.997292  0.996708  0.996528  0.053083  \n",
      "14886  0.996271  0.995994  0.995427  0.026467  \n",
      "14887  0.995959  0.995903  0.995111  0.015847  \n",
      "14888  1.000000  1.000000  1.000000  0.038593  \n",
      "\n",
      "[14888 rows x 10 columns]\n",
      "10\n"
     ]
    }
   ],
   "source": [
    "print(reframed)\n",
    "print(ncols)"
   ]
  },
  {
   "cell_type": "code",
   "execution_count": 174,
   "metadata": {},
   "outputs": [
    {
     "name": "stdout",
     "output_type": "stream",
     "text": [
      "   var1(t-1)  var2(t-1)  var3(t-1)  var4(t-1)  var5(t-1)   var4(t)\n",
      "1   0.031549   0.031124   0.033292   0.031805   0.006328  0.031464\n",
      "2   0.031210   0.030794   0.032937   0.031464   0.027217  0.031302\n",
      "3   0.031037   0.030610   0.032794   0.031302   0.007050  0.031594\n",
      "4   0.031313   0.030893   0.033080   0.031594   0.007955  0.031752\n",
      "5   0.031496   0.031083   0.033228   0.031752   0.012189  0.030780\n"
     ]
    }
   ],
   "source": [
    "\n",
    "reframed.drop(reframed.columns[[ncols-1,ncols-3,ncols-4,ncols-5]], axis=1, inplace=True)\n",
    "print(reframed.head())"
   ]
  },
  {
   "cell_type": "code",
   "execution_count": 175,
   "metadata": {},
   "outputs": [
    {
     "name": "stdout",
     "output_type": "stream",
     "text": [
      "(12728, 1, 5) (12728,) (2160, 1, 5) (2160,)\n"
     ]
    }
   ],
   "source": [
    "# split into train and test sets\n",
    "values = reframed.values\n",
    "n_test_hours = 90 * 24\n",
    "n_train_hours = values.shape[0] - n_test_hours\n",
    "train = values[:n_train_hours, :]\n",
    "test = values[n_train_hours:, :]\n",
    "# split into input and outputs\n",
    "train_X, train_y = train[:, :-1], train[:, -1]\n",
    "test_X, test_y = test[:, :-1], test[:, -1]\n",
    "# reshape input to be 3D [samples, timesteps, features]\n",
    "train_X = train_X.reshape((train_X.shape[0], 1, train_X.shape[1]))\n",
    "test_X = test_X.reshape((test_X.shape[0], 1, test_X.shape[1]))\n",
    "print(train_X.shape, train_y.shape, test_X.shape, test_y.shape)"
   ]
  },
  {
   "cell_type": "code",
   "execution_count": 177,
   "metadata": {},
   "outputs": [
    {
     "name": "stdout",
     "output_type": "stream",
     "text": [
      "Epoch 1/7\n",
      "398/398 - 1s - loss: 0.0013 - val_loss: 0.0240\n",
      "Epoch 2/7\n",
      "398/398 - 1s - loss: 9.1933e-04 - val_loss: 0.0083\n",
      "Epoch 3/7\n",
      "398/398 - 1s - loss: 5.3737e-04 - val_loss: 0.0024\n",
      "Epoch 4/7\n",
      "398/398 - 1s - loss: 3.5924e-04 - val_loss: 1.8727e-04\n",
      "Epoch 5/7\n",
      "398/398 - 1s - loss: 2.4371e-04 - val_loss: 8.4683e-05\n",
      "Epoch 6/7\n",
      "398/398 - 1s - loss: 1.8229e-04 - val_loss: 7.5599e-05\n",
      "Epoch 7/7\n",
      "398/398 - 1s - loss: 1.4426e-04 - val_loss: 2.4124e-04\n"
     ]
    }
   ],
   "source": [
    "\n",
    "# design network\n",
    "#model = Sequential()\n",
    "#model.add(LSTM(50, input_shape=(train_X.shape[1], train_X.shape[2])))\n",
    "#model.add(Dense(1))\n",
    "#model.compile(loss='mae', optimizer='adam')\n",
    "# fit network\n",
    "#history = model.fit(train_X, train_y, epochs=50, batch_size=72, validation_data=(test_X, test_y), verbose=2, shuffle=False)\n",
    "\n",
    "regressor = Sequential()\n",
    "\n",
    "regressor.add(LSTM(units = 20, return_sequences = True, input_shape = (train_X.shape[1], train_X.shape[2])))\n",
    "regressor.add(Dropout(0.2))\n",
    "\n",
    "#regressor.add(LSTM(units = 50, return_sequences = True))\n",
    "#regressor.add(Dropout(0.2))\n",
    "\n",
    "#regressor.add(LSTM(units = 50, return_sequences = True))\n",
    "#regressor.add(Dropout(0.2))\n",
    "\n",
    "#regressor.add(LSTM(units = 50))\n",
    "#regressor.add(Dropout(0.2))\n",
    "\n",
    "regressor.add(Dense(units = 1))\n",
    "\n",
    "regressor.compile(optimizer = 'adam', loss = 'mean_squared_error')\n",
    "\n",
    "history = regressor.fit(train_X, train_y, epochs = 7, batch_size = 32, validation_data=(test_X, test_y), verbose=2, shuffle=False)"
   ]
  },
  {
   "cell_type": "code",
   "execution_count": 178,
   "metadata": {},
   "outputs": [
    {
     "data": {
      "image/png": "[encoded data removed]",
      "text/plain": [
       "<Figure size 432x288 with 1 Axes>"
      ]
     },
     "metadata": {},
     "output_type": "display_data"
    }
   ],
   "source": [
    "# plot history\n",
    "pyplot.plot(history.history['loss'], label='train')\n",
    "pyplot.plot(history.history['val_loss'], label='test')\n",
    "pyplot.legend()\n",
    "pyplot.show()"
   ]
  },
  {
   "cell_type": "code",
   "execution_count": 179,
   "metadata": {},
   "outputs": [
    {
     "name": "stdout",
     "output_type": "stream",
     "text": [
      "(2160, 1, 5)\n",
      "(12728, 1, 5)\n"
     ]
    }
   ],
   "source": [
    "print(test_X.shape)\n",
    "print(train_X.shape)"
   ]
  },
  {
   "cell_type": "code",
   "execution_count": 180,
   "metadata": {},
   "outputs": [
    {
     "name": "stdout",
     "output_type": "stream",
     "text": [
      "(2160, 1, 5) (2160, 1, 1)\n"
     ]
    }
   ],
   "source": [
    "yhat = regressor.predict(test_X)\n",
    "print(test_X.shape, yhat.shape)"
   ]
  },
  {
   "cell_type": "code",
   "execution_count": 181,
   "metadata": {},
   "outputs": [],
   "source": [
    "test_X = test_X.reshape((test_X.shape[0], test_X.shape[2]))\n",
    "yhat = yhat.reshape((yhat.shape[0], yhat.shape[2]))\n",
    "test_y = np.transpose(test_y)"
   ]
  },
  {
   "cell_type": "code",
   "execution_count": 182,
   "metadata": {},
   "outputs": [
    {
     "name": "stdout",
     "output_type": "stream",
     "text": [
      "(2160, 1)\n",
      "(2160,)\n",
      "[[0.24776354]\n",
      " [0.24781221]\n",
      " [0.24779476]\n",
      " ...\n",
      " [1.0515747 ]\n",
      " [1.0491302 ]\n",
      " [1.0482522 ]]\n",
      "[0.24831803 0.24829172 0.24885042 ... 0.99542679 0.99511055 1.        ]\n"
     ]
    }
   ],
   "source": [
    "print(yhat.shape)\n",
    "print(test_y.shape)\n",
    "print(yhat)\n",
    "print(test_y)"
   ]
  },
  {
   "cell_type": "code",
   "execution_count": 183,
   "metadata": {},
   "outputs": [
    {
     "name": "stdout",
     "output_type": "stream",
     "text": [
      "[[0.24776354 0.24786858 0.24964403 0.2482426  0.03262661]\n",
      " [0.24781221 0.24781949 0.24974127 0.24831803 0.00881971]\n",
      " [0.24779476 0.24781478 0.24970939 0.24829172 0.01230666]\n",
      " ...\n",
      " [1.05157471 0.99729151 0.99670844 0.99652784 0.05308284]\n",
      " [1.0491302  0.9962708  0.99599359 0.99542679 0.02646724]\n",
      " [1.04825222 0.99595899 0.99590348 0.99511055 0.01584663]]\n",
      "Test RMSE: 377.996\n"
     ]
    }
   ],
   "source": [
    "# invert scaling for forecast\n",
    "inv_yhat = concatenate((yhat, test_X[:, 1:]), axis=1)\n",
    "print(inv_yhat)\n",
    "inv_yhat = scaler.inverse_transform(inv_yhat)\n",
    "inv_yhat = inv_yhat[:,0]\n",
    "\n",
    "# invert scaling for actual\n",
    "test_y = test_y.reshape((len(test_y), 1))\n",
    "inv_y = concatenate((test_y, test_X[:, 1:]), axis=1)\n",
    "inv_y = scaler.inverse_transform(inv_y)\n",
    "inv_y = inv_y[:,0]\n",
    "\n",
    "# calculate RMSE\n",
    "rmse = sqrt(mean_squared_error(inv_y, inv_yhat))\n",
    "print('Test RMSE: %.3f' % rmse)"
   ]
  },
  {
   "cell_type": "code",
   "execution_count": null,
   "metadata": {},
   "outputs": [],
   "source": []
  }
 ],
 "metadata": {
  "colab": {
   "collapsed_sections": [],
   "name": "bitcoin.ipynb",
   "provenance": []
  },
  "kernelspec": {
   "display_name": "Python 3",
   "language": "python",
   "name": "python3"
  },
  "language_info": {
   "codemirror_mode": {
    "name": "ipython",
    "version": 3
   },
   "file_extension": ".py",
   "mimetype": "text/x-python",
   "name": "python",
   "nbconvert_exporter": "python",
   "pygments_lexer": "ipython3",
   "version": "3.8.2"
  },
  "papermill": {
   "duration": 133.021573,
   "end_time": "2021-01-17T19:16:22.875936",
   "environment_variables": {},
   "exception": null,
   "input_path": "__notebook__.ipynb",
   "output_path": "__notebook__.ipynb",
   "parameters": {},
   "start_time": "2021-01-17T19:14:09.854363",
   "version": "2.1.0"
  }
 },
 "nbformat": 4,
 "nbformat_minor": 1
}
